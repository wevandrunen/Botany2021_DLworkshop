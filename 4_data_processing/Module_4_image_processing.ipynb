{
  "nbformat": 4,
  "nbformat_minor": 0,
  "metadata": {
    "colab": {
      "name": "Module-4-image-processing.ipynb",
      "provenance": [],
      "include_colab_link": true
    },
    "kernelspec": {
      "name": "python3",
      "display_name": "Python 3"
    },
    "language_info": {
      "name": "python"
    }
  },
  "cells": [
    {
      "cell_type": "markdown",
      "metadata": {
        "id": "view-in-github",
        "colab_type": "text"
      },
      "source": [
        "<a href=\"https://colab.research.google.com/github/wevandrunen/Botany2021_DLworkshop/blob/main/4_data_processing/Module_4_image_processing.ipynb\" target=\"_parent\"><img src=\"https://colab.research.google.com/assets/colab-badge.svg\" alt=\"Open In Colab\"/></a>"
      ]
    },
    {
      "cell_type": "markdown",
      "metadata": {
        "id": "fvba4qVI4tsc"
      },
      "source": [
        "Image Processing (Module 4)\n",
        "This notebook is designed to be a standalone module/tutorial. It may repeat some information presented in the other modules.\n",
        "This next step installs and loads fastbook. When using google colab, you may have to re-execute this command every time you re-connect."
      ]
    },
    {
      "cell_type": "code",
      "metadata": {
        "id": "m4_3ZcDe4Zru",
        "outputId": "f4639e6d-db43-4689-df72-cbbb916635fd",
        "colab": {
          "base_uri": "https://localhost:8080/"
        }
      },
      "source": [
        "!pip install -Uqq fastbook"
      ],
      "execution_count": 1,
      "outputs": [
        {
          "output_type": "stream",
          "text": [
            "\u001b[K     |████████████████████████████████| 727kB 5.0MB/s \n",
            "\u001b[K     |████████████████████████████████| 1.2MB 24.3MB/s \n",
            "\u001b[K     |████████████████████████████████| 194kB 38.1MB/s \n",
            "\u001b[K     |████████████████████████████████| 51kB 6.0MB/s \n",
            "\u001b[K     |████████████████████████████████| 61kB 6.2MB/s \n",
            "\u001b[K     |████████████████████████████████| 61kB 6.6MB/s \n",
            "\u001b[?25h"
          ],
          "name": "stdout"
        }
      ]
    },
    {
      "cell_type": "markdown",
      "metadata": {
        "id": "IdsBmDC6U2Rl"
      },
      "source": [
        "\n",
        "This next step allows you access directories in your google drive:"
      ]
    },
    {
      "cell_type": "code",
      "metadata": {
        "id": "CJOr1Jx8A1iu",
        "outputId": "495605fc-239f-440b-bc40-90988e351ae9",
        "colab": {
          "base_uri": "https://localhost:8080/"
        }
      },
      "source": [
        "from google.colab import drive\n",
        "drive.mount('/content/gdrive')"
      ],
      "execution_count": 2,
      "outputs": [
        {
          "output_type": "stream",
          "text": [
            "Mounted at /content/gdrive\n"
          ],
          "name": "stdout"
        }
      ]
    },
    {
      "cell_type": "code",
      "metadata": {
        "id": "Amb0YtGE45Wb"
      },
      "source": [
        "import fastbook\n",
        "fastbook.setup_book()"
      ],
      "execution_count": 3,
      "outputs": []
    },
    {
      "cell_type": "markdown",
      "metadata": {
        "id": "_l-Y8CXtUus2"
      },
      "source": [
        "\n",
        "You will be prompted to sign in to a google account and get a key code (opens in a new tab); you will need to sign into a google account and copy and paste the key into this notebook where prompted."
      ]
    },
    {
      "cell_type": "code",
      "metadata": {
        "id": "vImUV8bn5GCR"
      },
      "source": [
        "from fastbook import *\n",
        "from fastai.vision.widgets import *"
      ],
      "execution_count": 4,
      "outputs": []
    },
    {
      "cell_type": "code",
      "metadata": {
        "id": "3R5t9xLg5J-t",
        "outputId": "eb4ae18d-a780-4a75-b0f5-8e516da1df55",
        "colab": {
          "base_uri": "https://localhost:8080/",
          "height": 36
        }
      },
      "source": [
        "pwd"
      ],
      "execution_count": 5,
      "outputs": [
        {
          "output_type": "execute_result",
          "data": {
            "application/vnd.google.colaboratory.intrinsic+json": {
              "type": "string"
            },
            "text/plain": [
              "'/content'"
            ]
          },
          "metadata": {
            "tags": []
          },
          "execution_count": 5
        }
      ]
    },
    {
      "cell_type": "markdown",
      "metadata": {
        "id": "T4Zb_6duU58V"
      },
      "source": [
        "\n",
        "For this notebook, we will download a dataset that is in a zipped directory. You can put the dataset wherever you like on your Google Drive, but you need to have the path to the directory match the below variable path_handle\n",
        "On my google drive, I made the folder workshop inside a folder DL_images and I will put the data we are about to download in the workshop directory"
      ]
    },
    {
      "cell_type": "markdown",
      "metadata": {
        "id": "vUAISW6gwRrG"
      },
      "source": [
        "First have to make this folder in google drive"
      ]
    },
    {
      "cell_type": "code",
      "metadata": {
        "id": "wJ4aGOxV-h43"
      },
      "source": [
        "path_handle = \"/content/gdrive/My Drive/DL_images/workshop/\""
      ],
      "execution_count": 7,
      "outputs": []
    },
    {
      "cell_type": "code",
      "metadata": {
        "id": "qzRllXc3BCxV"
      },
      "source": [
        "os.chdir(path_handle)"
      ],
      "execution_count": 8,
      "outputs": []
    },
    {
      "cell_type": "code",
      "metadata": {
        "id": "ggrUWqXRBGwI",
        "outputId": "f55d2254-ff45-4e87-faff-3274b755eac7",
        "colab": {
          "base_uri": "https://localhost:8080/",
          "height": 36
        }
      },
      "source": [
        "pwd"
      ],
      "execution_count": 9,
      "outputs": [
        {
          "output_type": "execute_result",
          "data": {
            "application/vnd.google.colaboratory.intrinsic+json": {
              "type": "string"
            },
            "text/plain": [
              "'/content/gdrive/My Drive/DL_images/workshop'"
            ]
          },
          "metadata": {
            "tags": []
          },
          "execution_count": 9
        }
      ]
    },
    {
      "cell_type": "markdown",
      "metadata": {
        "id": "BINea5fnU_Gw"
      },
      "source": [
        "Now go to Figshare and download the dataset image_dir.zip\n",
        "First we need to navigate to where we put the zipped directory."
      ]
    },
    {
      "cell_type": "code",
      "metadata": {
        "id": "s41wgqoN5Q_5"
      },
      "source": [
        "! wget https://ndownloader.figshare.com/files/28871331?private_link=26890b409bb01c747551 -O image_dir.zip"
      ],
      "execution_count": null,
      "outputs": []
    },
    {
      "cell_type": "code",
      "metadata": {
        "id": "CwQMXiZSCJjl"
      },
      "source": [
        "ls"
      ],
      "execution_count": null,
      "outputs": []
    },
    {
      "cell_type": "code",
      "metadata": {
        "id": "qXdvIJde5M1H"
      },
      "source": [
        "mkdir image_dir"
      ],
      "execution_count": null,
      "outputs": []
    },
    {
      "cell_type": "code",
      "metadata": {
        "id": "2BHkMfKF50pP"
      },
      "source": [
        "ls"
      ],
      "execution_count": null,
      "outputs": []
    },
    {
      "cell_type": "markdown",
      "metadata": {
        "id": "jb-4L2XtVaT2"
      },
      "source": [
        "\n",
        "We now need to unzip the directory and check the organization of the files."
      ]
    },
    {
      "cell_type": "code",
      "metadata": {
        "id": "Za6oE2pb52Ai"
      },
      "source": [
        "import zipfile\n",
        "\n",
        "zippy = zipfile.ZipFile('image_dir.zip')\n",
        "zippy.extractall()"
      ],
      "execution_count": null,
      "outputs": []
    },
    {
      "cell_type": "code",
      "metadata": {
        "id": "fePPNL5A588i"
      },
      "source": [
        "ls"
      ],
      "execution_count": null,
      "outputs": []
    },
    {
      "cell_type": "code",
      "metadata": {
        "id": "I4vGiy5W5_9i"
      },
      "source": [
        "cd image_dir/"
      ],
      "execution_count": null,
      "outputs": []
    },
    {
      "cell_type": "code",
      "metadata": {
        "id": "5Fn7gwib8bk-"
      },
      "source": [
        "image_directory = path_handle+\"/image_dir\""
      ],
      "execution_count": null,
      "outputs": []
    },
    {
      "cell_type": "code",
      "metadata": {
        "id": "RilBvRfI8dof"
      },
      "source": [
        "os.chdir(image_directory)"
      ],
      "execution_count": null,
      "outputs": []
    },
    {
      "cell_type": "code",
      "metadata": {
        "id": "eKHeR5OO6CDr"
      },
      "source": [
        "ls"
      ],
      "execution_count": null,
      "outputs": []
    },
    {
      "cell_type": "markdown",
      "metadata": {
        "id": "kF2yghNkVvwl"
      },
      "source": [
        "Now we will make a directory to do some image processing and copy the directories with images into that working directory."
      ]
    },
    {
      "cell_type": "code",
      "metadata": {
        "id": "FDYRUAPS6Mdh"
      },
      "source": [
        "mkdir processing_dir"
      ],
      "execution_count": null,
      "outputs": []
    },
    {
      "cell_type": "code",
      "metadata": {
        "id": "DAuHN1z27SxV"
      },
      "source": [
        "cp -r africana avium domestica javanica subhirtella americana caroliniana spinosa yedoensis processing_dir/"
      ],
      "execution_count": null,
      "outputs": []
    },
    {
      "cell_type": "code",
      "metadata": {
        "id": "NHeaMM_X72s_"
      },
      "source": [
        "cd processing_dir/"
      ],
      "execution_count": null,
      "outputs": []
    },
    {
      "cell_type": "code",
      "metadata": {
        "id": "FMMgC0hS741x"
      },
      "source": [
        "ls"
      ],
      "execution_count": null,
      "outputs": []
    },
    {
      "cell_type": "code",
      "metadata": {
        "id": "aAhGIdBe7_VL"
      },
      "source": [
        "module4_dir = image_directory+\"/processing_dir\""
      ],
      "execution_count": null,
      "outputs": []
    },
    {
      "cell_type": "markdown",
      "metadata": {
        "id": "cUmV-1vLV6n4"
      },
      "source": [
        "Now we will read in the data so we can start working with it in fastai."
      ]
    },
    {
      "cell_type": "code",
      "metadata": {
        "id": "vkt2Zbcj76q7"
      },
      "source": [
        "data = get_image_files(module4_dir)\n",
        "data"
      ],
      "execution_count": null,
      "outputs": []
    },
    {
      "cell_type": "markdown",
      "metadata": {
        "id": "FvxVJkkMWBHB"
      },
      "source": [
        "This checks to see if any images failed to be loaded."
      ]
    },
    {
      "cell_type": "code",
      "metadata": {
        "id": "zGUYviSW_WxU"
      },
      "source": [
        "failed = verify_images(data)\n",
        "print(failed)"
      ],
      "execution_count": null,
      "outputs": []
    },
    {
      "cell_type": "markdown",
      "metadata": {
        "id": "WSkV7JSzWHxW"
      },
      "source": [
        "Let's look at one of our images."
      ]
    },
    {
      "cell_type": "code",
      "metadata": {
        "id": "OyRnt2IeLqiM"
      },
      "source": [
        "img = Image.open('africana/africana_cb2211d7-1182-498c-8b58-345e0aff8d21.jpg')\n",
        "img"
      ],
      "execution_count": null,
      "outputs": []
    },
    {
      "cell_type": "markdown",
      "metadata": {
        "id": "4gaeEtwbWPK6"
      },
      "source": [
        "Now we can resize our images and see what a sampling look like."
      ]
    },
    {
      "cell_type": "code",
      "metadata": {
        "id": "ZlJ__Pb0OE1v"
      },
      "source": [
        "resized_images = ImageDataLoaders.from_name_re(\n",
        "    module4_dir, data, pat=r'(.+)_*.jpg$', item_tfms=Resize(224), bs=64)"
      ],
      "execution_count": null,
      "outputs": []
    },
    {
      "cell_type": "code",
      "metadata": {
        "id": "Cws1BhZ8NNbt"
      },
      "source": [
        "resized_images.show_batch(max_n=20, figsize=(9,7))"
      ],
      "execution_count": null,
      "outputs": []
    },
    {
      "cell_type": "markdown",
      "metadata": {
        "id": "sS_D4MaBWV6E"
      },
      "source": [
        "We can also crop them, note that the below command does this on the original, not resized images."
      ]
    },
    {
      "cell_type": "code",
      "metadata": {
        "id": "ILxA0T9yQ3mO"
      },
      "source": [
        "cropped_images = ImageDataLoaders.from_name_re(\n",
        "    module4_dir, data, pat=r'(.+)_*.jpg$', item_tfms=RandomCrop(200), bs=64)"
      ],
      "execution_count": null,
      "outputs": []
    },
    {
      "cell_type": "code",
      "metadata": {
        "id": "Ygh8UCwgRhT8"
      },
      "source": [
        "cropped_images.show_batch(max_n=20, figsize=(9,7))"
      ],
      "execution_count": null,
      "outputs": []
    },
    {
      "cell_type": "markdown",
      "metadata": {
        "id": "UljxHGzoWe7H"
      },
      "source": [
        "Finally, we will do a suite of image transforms that include resizing, random cropping, contrast changes, and flipping."
      ]
    },
    {
      "cell_type": "code",
      "metadata": {
        "id": "DtQ-nFVURsWf"
      },
      "source": [
        "batch_transform = ImageDataLoaders.from_name_re(\n",
        "    module4_dir, data, pat=r'(.+)_*.jpg$', item_tfms=Resize(460), bs=64,\n",
        "    batch_tfms=[*aug_transforms(size=224, min_scale=0.75), Normalize.from_stats(*imagenet_stats)])"
      ],
      "execution_count": null,
      "outputs": []
    },
    {
      "cell_type": "code",
      "metadata": {
        "id": "Y4t9ZSrhRtRt"
      },
      "source": [
        "batch_transform.show_batch(max_n=20, figsize=(9,7))"
      ],
      "execution_count": null,
      "outputs": []
    }
  ]
}