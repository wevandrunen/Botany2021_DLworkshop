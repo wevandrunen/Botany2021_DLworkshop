{
  "nbformat": 4,
  "nbformat_minor": 0,
  "metadata": {
    "kernelspec": {
      "display_name": "Python 3 (ipykernel)",
      "language": "python",
      "name": "python3"
    },
    "language_info": {
      "codemirror_mode": {
        "name": "ipython",
        "version": 3
      },
      "file_extension": ".py",
      "mimetype": "text/x-python",
      "name": "python",
      "nbconvert_exporter": "python",
      "pygments_lexer": "ipython3",
      "version": "3.9.6"
    },
    "colab": {
      "name": "module_2_intro_to_python_emptied.ipynb",
      "provenance": []
    }
  },
  "cells": [
    {
      "cell_type": "markdown",
      "metadata": {
        "id": "ltosUqWECBF1"
      },
      "source": [
        "**Markdown** cell!"
      ]
    },
    {
      "cell_type": "markdown",
      "metadata": {
        "id": "mkO2SqEOBaAG"
      },
      "source": [
        "## Running code cells"
      ]
    },
    {
      "cell_type": "code",
      "metadata": {
        "ExecuteTime": {
          "end_time": "2021-07-17T16:28:41.666753Z",
          "start_time": "2021-07-17T16:28:41.655703Z"
        },
        "colab": {
          "base_uri": "https://localhost:8080/"
        },
        "id": "1Cpe3fCPBaAH",
        "outputId": "91d14114-1f74-44bd-88b9-aeddb16de42f"
      },
      "source": [
        "5-2"
      ],
      "execution_count": 1,
      "outputs": [
        {
          "output_type": "execute_result",
          "data": {
            "text/plain": [
              "3"
            ]
          },
          "metadata": {
            "tags": []
          },
          "execution_count": 1
        }
      ]
    },
    {
      "cell_type": "code",
      "metadata": {
        "colab": {
          "base_uri": "https://localhost:8080/"
        },
        "id": "XEXcHsPhBaAI",
        "outputId": "41fef844-4f6e-48b1-dfc5-8fa51b1adaef"
      },
      "source": [
        "# this is a code comment\n",
        "# this is the next line! \n",
        "# shift-enter to run code chunk\n",
        "2*2"
      ],
      "execution_count": 2,
      "outputs": [
        {
          "output_type": "execute_result",
          "data": {
            "text/plain": [
              "4"
            ]
          },
          "metadata": {
            "tags": []
          },
          "execution_count": 2
        }
      ]
    },
    {
      "cell_type": "code",
      "metadata": {
        "ExecuteTime": {
          "end_time": "2021-07-17T16:28:41.673389Z",
          "start_time": "2021-07-17T16:28:41.669424Z"
        },
        "colab": {
          "base_uri": "https://localhost:8080/"
        },
        "id": "9w5xEfuXBaAK",
        "outputId": "491dce76-e276-4218-8edd-62d428a0d1ba"
      },
      "source": [
        "# you can also include unix code\n",
        "# list all files in directory\n",
        "!ls"
      ],
      "execution_count": 3,
      "outputs": [
        {
          "output_type": "stream",
          "text": [
            "sample_data\n"
          ],
          "name": "stdout"
        }
      ]
    },
    {
      "cell_type": "markdown",
      "metadata": {
        "id": "1t8zowayBaAK"
      },
      "source": [
        "## Variables and Data Types"
      ]
    },
    {
      "cell_type": "markdown",
      "metadata": {
        "id": "Go9DWWzgBaAL"
      },
      "source": [
        "One of the most basic things we can do in Python is assign values to **variables**:"
      ]
    },
    {
      "cell_type": "code",
      "metadata": {
        "ExecuteTime": {
          "end_time": "2021-07-17T16:28:41.679774Z",
          "start_time": "2021-07-17T16:28:41.676529Z"
        },
        "id": "u3-Nk_IlBaAM"
      },
      "source": [
        "text = \"Botany 2021\"\n",
        "number = 42\n",
        "pi_value = 3.1415"
      ],
      "execution_count": 6,
      "outputs": []
    },
    {
      "cell_type": "code",
      "metadata": {
        "ExecuteTime": {
          "end_time": "2021-07-17T16:28:41.693145Z",
          "start_time": "2021-07-17T16:28:41.682996Z"
        },
        "colab": {
          "base_uri": "https://localhost:8080/",
          "height": 36
        },
        "id": "IARuLcvyBaAN",
        "outputId": "31e2d7c2-4105-4728-dd1e-8a1b9e4b5dd3"
      },
      "source": [
        "text"
      ],
      "execution_count": 9,
      "outputs": [
        {
          "output_type": "execute_result",
          "data": {
            "application/vnd.google.colaboratory.intrinsic+json": {
              "type": "string"
            },
            "text/plain": [
              "'Botany 2021'"
            ]
          },
          "metadata": {
            "tags": []
          },
          "execution_count": 9
        }
      ]
    },
    {
      "cell_type": "code",
      "metadata": {
        "colab": {
          "base_uri": "https://localhost:8080/"
        },
        "id": "J4hFAxn-EpvG",
        "outputId": "6706bf92-b363-41fd-bdc2-09e9cdce3d97"
      },
      "source": [
        "print(text)"
      ],
      "execution_count": 10,
      "outputs": [
        {
          "output_type": "stream",
          "text": [
            "Botany 2021\n"
          ],
          "name": "stdout"
        }
      ]
    },
    {
      "cell_type": "markdown",
      "metadata": {
        "id": "DVImjDpmBaAN"
      },
      "source": [
        "Everything in Python has a type. To get the type of something, we can pass it to the built-in **function** type:"
      ]
    },
    {
      "cell_type": "code",
      "metadata": {
        "ExecuteTime": {
          "end_time": "2021-07-17T16:28:41.702379Z",
          "start_time": "2021-07-17T16:28:41.696578Z"
        },
        "colab": {
          "base_uri": "https://localhost:8080/"
        },
        "id": "TrMfPs32BaAO",
        "outputId": "5ebdb227-a2c5-411c-97de-f9f4c2c3c779"
      },
      "source": [
        "type(number)"
      ],
      "execution_count": 11,
      "outputs": [
        {
          "output_type": "execute_result",
          "data": {
            "text/plain": [
              "int"
            ]
          },
          "metadata": {
            "tags": []
          },
          "execution_count": 11
        }
      ]
    },
    {
      "cell_type": "code",
      "metadata": {
        "ExecuteTime": {
          "end_time": "2021-07-17T16:28:41.711255Z",
          "start_time": "2021-07-17T16:28:41.705546Z"
        },
        "colab": {
          "base_uri": "https://localhost:8080/"
        },
        "id": "C0O6gPkpBaAO",
        "outputId": "bb84cad3-9e58-4d7d-d508-62bd3f80c0f3"
      },
      "source": [
        "type(text)"
      ],
      "execution_count": 12,
      "outputs": [
        {
          "output_type": "execute_result",
          "data": {
            "text/plain": [
              "str"
            ]
          },
          "metadata": {
            "tags": []
          },
          "execution_count": 12
        }
      ]
    },
    {
      "cell_type": "code",
      "metadata": {
        "ExecuteTime": {
          "end_time": "2021-07-17T16:28:41.719762Z",
          "start_time": "2021-07-17T16:28:41.714454Z"
        },
        "colab": {
          "base_uri": "https://localhost:8080/"
        },
        "id": "AU-URhsXBaAP",
        "outputId": "b169eb6c-641a-43e0-b372-bd34df7e069f"
      },
      "source": [
        "type(pi_value)\n",
        "# a float is a number with decimal places"
      ],
      "execution_count": 14,
      "outputs": [
        {
          "output_type": "execute_result",
          "data": {
            "text/plain": [
              "float"
            ]
          },
          "metadata": {
            "tags": []
          },
          "execution_count": 14
        }
      ]
    },
    {
      "cell_type": "code",
      "metadata": {
        "colab": {
          "base_uri": "https://localhost:8080/"
        },
        "id": "lZoFpYgxFZ_j",
        "outputId": "b60094d0-3db4-40d3-cc00-328797663970"
      },
      "source": [
        "number+number"
      ],
      "execution_count": 15,
      "outputs": [
        {
          "output_type": "execute_result",
          "data": {
            "text/plain": [
              "84"
            ]
          },
          "metadata": {
            "tags": []
          },
          "execution_count": 15
        }
      ]
    },
    {
      "cell_type": "code",
      "metadata": {
        "colab": {
          "base_uri": "https://localhost:8080/",
          "height": 193
        },
        "id": "eFTzXaCVFwU5",
        "outputId": "eb3c18d5-791b-43df-a9e8-8aa839cb8b57"
      },
      "source": [
        "number+text\n",
        "# built in search on stack overflow for errors!"
      ],
      "execution_count": 18,
      "outputs": [
        {
          "output_type": "error",
          "ename": "TypeError",
          "evalue": "ignored",
          "traceback": [
            "\u001b[0;31m---------------------------------------------------------------------------\u001b[0m",
            "\u001b[0;31mTypeError\u001b[0m                                 Traceback (most recent call last)",
            "\u001b[0;32m<ipython-input-18-064afe82673f>\u001b[0m in \u001b[0;36m<module>\u001b[0;34m()\u001b[0m\n\u001b[0;32m----> 1\u001b[0;31m \u001b[0mnumber\u001b[0m\u001b[0;34m+\u001b[0m\u001b[0mtext\u001b[0m\u001b[0;34m\u001b[0m\u001b[0;34m\u001b[0m\u001b[0m\n\u001b[0m\u001b[1;32m      2\u001b[0m \u001b[0;31m# built in search on stack overflow for errors!\u001b[0m\u001b[0;34m\u001b[0m\u001b[0;34m\u001b[0m\u001b[0;34m\u001b[0m\u001b[0m\n",
            "\u001b[0;31mTypeError\u001b[0m: unsupported operand type(s) for +: 'int' and 'str'"
          ]
        }
      ]
    },
    {
      "cell_type": "code",
      "metadata": {
        "colab": {
          "base_uri": "https://localhost:8080/"
        },
        "id": "gxkML3gbFfSs",
        "outputId": "2ecdc9a5-d989-4c22-a26f-12f5f5541f7f"
      },
      "source": [
        "number+pi_value"
      ],
      "execution_count": 16,
      "outputs": [
        {
          "output_type": "execute_result",
          "data": {
            "text/plain": [
              "45.1415"
            ]
          },
          "metadata": {
            "tags": []
          },
          "execution_count": 16
        }
      ]
    },
    {
      "cell_type": "markdown",
      "metadata": {
        "id": "8Dj0nLjfBaAP"
      },
      "source": [
        "We can also use comparison and logic operators: <, >, ==, !=, <=, >= and statements of identity such as and, or, not. The data type returned by this is called a **boolean**."
      ]
    },
    {
      "cell_type": "code",
      "metadata": {
        "ExecuteTime": {
          "end_time": "2021-07-17T16:28:41.730475Z",
          "start_time": "2021-07-17T16:28:41.724186Z"
        },
        "colab": {
          "base_uri": "https://localhost:8080/"
        },
        "id": "T9xaGSecBaAP",
        "outputId": "06cfbac3-c7c3-47f9-86e6-a11f6420178b"
      },
      "source": [
        "42<3"
      ],
      "execution_count": 19,
      "outputs": [
        {
          "output_type": "execute_result",
          "data": {
            "text/plain": [
              "False"
            ]
          },
          "metadata": {
            "tags": []
          },
          "execution_count": 19
        }
      ]
    },
    {
      "cell_type": "code",
      "metadata": {
        "ExecuteTime": {
          "end_time": "2021-07-17T16:28:41.741027Z",
          "start_time": "2021-07-17T16:28:41.733971Z"
        },
        "id": "E1bSjQCLBaAQ"
      },
      "source": [
        "result=pi_value>number"
      ],
      "execution_count": 20,
      "outputs": []
    },
    {
      "cell_type": "code",
      "metadata": {
        "colab": {
          "base_uri": "https://localhost:8080/"
        },
        "id": "WQdtsLneHgOL",
        "outputId": "e83f99ed-0794-4976-8f4b-4a009a4d6048"
      },
      "source": [
        "type(result)"
      ],
      "execution_count": 21,
      "outputs": [
        {
          "output_type": "execute_result",
          "data": {
            "text/plain": [
              "bool"
            ]
          },
          "metadata": {
            "tags": []
          },
          "execution_count": 21
        }
      ]
    },
    {
      "cell_type": "markdown",
      "metadata": {
        "id": "rP0Py8hoBaAQ"
      },
      "source": [
        "### Collections: Lists and Dictionaries"
      ]
    },
    {
      "cell_type": "markdown",
      "metadata": {
        "id": "-HuIyd_-BaAQ"
      },
      "source": [
        "A **list** is a common data structure to hold an ordered sequence of elements. Each element can be accessed by an index. Note that Python indexes start with 0 instead of 1:"
      ]
    },
    {
      "cell_type": "code",
      "metadata": {
        "ExecuteTime": {
          "end_time": "2021-07-17T16:44:26.562359Z",
          "start_time": "2021-07-17T16:44:26.557943Z"
        },
        "colab": {
          "base_uri": "https://localhost:8080/"
        },
        "id": "OhEIhH9wBaAQ",
        "outputId": "d28b1a37-017b-4e17-d263-d003e2b2b53e"
      },
      "source": [
        "numberlist=[1,2,3]\n",
        "# in python counting elements starts with zero\n",
        "numberlist[0]"
      ],
      "execution_count": 23,
      "outputs": [
        {
          "output_type": "execute_result",
          "data": {
            "text/plain": [
              "1"
            ]
          },
          "metadata": {
            "tags": []
          },
          "execution_count": 23
        }
      ]
    },
    {
      "cell_type": "markdown",
      "metadata": {
        "id": "Xv4WK949BaAR"
      },
      "source": [
        "To add elements to the end of a list, we can use the append **method**. Methods are a way to interact with an object (a list, for example). We can invoke a method using the dot . followed by the method name and a list of arguments in parentheses. Let’s look at an example using append:"
      ]
    },
    {
      "cell_type": "code",
      "metadata": {
        "ExecuteTime": {
          "end_time": "2021-07-17T16:55:36.189115Z",
          "start_time": "2021-07-17T16:55:36.184366Z"
        },
        "colab": {
          "base_uri": "https://localhost:8080/"
        },
        "id": "3-I2hRbsBaAR",
        "outputId": "5607ea19-4579-4b93-e6e8-c43478e05b17"
      },
      "source": [
        "numberlist.append(4)\n",
        "numberlist"
      ],
      "execution_count": 25,
      "outputs": [
        {
          "output_type": "execute_result",
          "data": {
            "text/plain": [
              "[1, 2, 3, 4]"
            ]
          },
          "metadata": {
            "tags": []
          },
          "execution_count": 25
        }
      ]
    },
    {
      "cell_type": "markdown",
      "metadata": {
        "id": "FKyrIuozBaAR"
      },
      "source": [
        "A **dictionary** is a container that holds pairs of objects - **keys** and **values.**"
      ]
    },
    {
      "cell_type": "code",
      "metadata": {
        "ExecuteTime": {
          "end_time": "2021-07-17T17:10:21.572386Z",
          "start_time": "2021-07-17T17:10:21.568562Z"
        },
        "colab": {
          "base_uri": "https://localhost:8080/",
          "height": 36
        },
        "id": "qTbO7chSBaAR",
        "outputId": "40600120-91f9-413a-c1ad-c5cef9b95ab3"
      },
      "source": [
        "prunus_common={\"cerasus\":\"sour cherry\",\"armeniaca\":\"apricot\"}\n",
        "prunus_common[\"armeniaca\"]\n",
        "# single quotes works here too, when will one of other will not work"
      ],
      "execution_count": 35,
      "outputs": [
        {
          "output_type": "execute_result",
          "data": {
            "application/vnd.google.colaboratory.intrinsic+json": {
              "type": "string"
            },
            "text/plain": [
              "'apricot'"
            ]
          },
          "metadata": {
            "tags": []
          },
          "execution_count": 35
        }
      ]
    },
    {
      "cell_type": "markdown",
      "metadata": {
        "id": "nQnmUxc5BaAS"
      },
      "source": [
        "Dictionaries work a lot like lists - except that you index them with keys. You can think about a key as a name or unique identifier for the value it corresponds to.\n",
        "\n",
        "To add an item to the dictionary we assign a value to a new key:"
      ]
    },
    {
      "cell_type": "code",
      "metadata": {
        "ExecuteTime": {
          "end_time": "2021-07-17T17:11:06.484681Z",
          "start_time": "2021-07-17T17:11:06.481038Z"
        },
        "colab": {
          "base_uri": "https://localhost:8080/"
        },
        "id": "gDqbbzWfBaAT",
        "outputId": "c3466a0e-1805-494d-ede8-4cf244fedff3"
      },
      "source": [
        "prunus_common[\"dulcis\"]=\"almond\"\n",
        "prunus_common"
      ],
      "execution_count": 36,
      "outputs": [
        {
          "output_type": "execute_result",
          "data": {
            "text/plain": [
              "{'armeniaca': 'apricot', 'cerasus': 'sour cherry', 'dulcis': 'almond'}"
            ]
          },
          "metadata": {
            "tags": []
          },
          "execution_count": 36
        }
      ]
    },
    {
      "cell_type": "markdown",
      "metadata": {
        "id": "BmGEmaqLBaAT"
      },
      "source": [
        "## Loops"
      ]
    },
    {
      "cell_type": "markdown",
      "metadata": {
        "id": "4PcUW5cIBaAT"
      },
      "source": [
        "A **for loop** can be used to access the elements in a list or other Python data structure one at a time.\n",
        "\n",
        "Indentation is very important in Python. Note that the second line in the example below is indented. Colab should indent it for you."
      ]
    },
    {
      "cell_type": "code",
      "metadata": {
        "ExecuteTime": {
          "end_time": "2021-07-17T17:12:39.607450Z",
          "start_time": "2021-07-17T17:12:39.603226Z"
        },
        "colab": {
          "base_uri": "https://localhost:8080/"
        },
        "id": "Guri0vgOBaAT",
        "outputId": "06ec757f-1f63-4872-d1fc-781afbb6ee76"
      },
      "source": [
        "for num in numberlist:\n",
        "  print(num)\n",
        "  print(num + 5)\n",
        "  print(\"*\")"
      ],
      "execution_count": 32,
      "outputs": [
        {
          "output_type": "stream",
          "text": [
            "1\n",
            "6\n",
            "*\n",
            "2\n",
            "7\n",
            "*\n",
            "3\n",
            "8\n",
            "*\n",
            "4\n",
            "9\n",
            "*\n"
          ],
          "name": "stdout"
        }
      ]
    },
    {
      "cell_type": "code",
      "metadata": {
        "ExecuteTime": {
          "end_time": "2021-07-17T17:12:57.736086Z",
          "start_time": "2021-07-17T17:12:57.730280Z"
        },
        "colab": {
          "base_uri": "https://localhost:8080/"
        },
        "id": "jlMNzlVhBaAT",
        "outputId": "046cafb4-2b15-4027-f58a-b6e57795d74c"
      },
      "source": [
        "numberlist"
      ],
      "execution_count": 33,
      "outputs": [
        {
          "output_type": "execute_result",
          "data": {
            "text/plain": [
              "[1, 2, 3, 4]"
            ]
          },
          "metadata": {
            "tags": []
          },
          "execution_count": 33
        }
      ]
    },
    {
      "cell_type": "markdown",
      "metadata": {
        "id": "Ri3tLxVtBaAU"
      },
      "source": [
        "For loops for dictionaries are a bit more complicated, since each entry has a key and a value.\n",
        "\n",
        "Here is how to loop through all of the keys."
      ]
    },
    {
      "cell_type": "code",
      "metadata": {
        "ExecuteTime": {
          "end_time": "2021-07-17T17:15:45.027926Z",
          "start_time": "2021-07-17T17:15:45.023817Z"
        },
        "colab": {
          "base_uri": "https://localhost:8080/"
        },
        "id": "e21XGn8RBaAU",
        "outputId": "ec8302a5-5be1-49d9-f123-e6dc645f57f4"
      },
      "source": [
        "for species in prunus_common.keys():\n",
        "  print(species)"
      ],
      "execution_count": 37,
      "outputs": [
        {
          "output_type": "stream",
          "text": [
            "cerasus\n",
            "armeniaca\n",
            "dulcis\n"
          ],
          "name": "stdout"
        }
      ]
    },
    {
      "cell_type": "markdown",
      "metadata": {
        "id": "kGcEAXpEBaAU"
      },
      "source": [
        "You can also loop through key/value pairs:"
      ]
    },
    {
      "cell_type": "code",
      "metadata": {
        "ExecuteTime": {
          "end_time": "2021-07-17T17:17:06.313175Z",
          "start_time": "2021-07-17T17:17:06.307645Z"
        },
        "colab": {
          "base_uri": "https://localhost:8080/"
        },
        "id": "5xsPce3MBaAU",
        "outputId": "782818a1-f366-4230-f346-b48f6f8e5ded"
      },
      "source": [
        "# multiple place-holders to get several things from dictionary\n",
        "for species, common in prunus_common.items():\n",
        "  print(\"The common name for Prunus\",species,\"is\",common)\n"
      ],
      "execution_count": 38,
      "outputs": [
        {
          "output_type": "stream",
          "text": [
            "The common name for Prunus cerasus is sour cherry\n",
            "The common name for Prunus armeniaca is apricot\n",
            "The common name for Prunus dulcis is almond\n"
          ],
          "name": "stdout"
        }
      ]
    },
    {
      "cell_type": "markdown",
      "metadata": {
        "id": "8Zva7d4fBaAU"
      },
      "source": [
        "## Functions"
      ]
    },
    {
      "cell_type": "markdown",
      "metadata": {
        "id": "1W7yPFJsBaAV"
      },
      "source": [
        "We've seen a few built-in functions so far (like *type()* or *print()*), but we can create our own functions.\n",
        "\n",
        "Defining a section of code as a function in Python is done using the *def keyword. For example a function that takes two arguments and returns their sum can be defined as:"
      ]
    },
    {
      "cell_type": "code",
      "metadata": {
        "id": "jZhsAiYoBaAV"
      },
      "source": [
        "def add_function(a,b):\n",
        "  result=a+b\n",
        "  return result"
      ],
      "execution_count": 39,
      "outputs": []
    },
    {
      "cell_type": "code",
      "metadata": {
        "colab": {
          "base_uri": "https://localhost:8080/"
        },
        "id": "cSK9bQ9_Lnjr",
        "outputId": "40a74f1d-28a9-4233-c536-008f623d12ba"
      },
      "source": [
        "add_function(3,5)"
      ],
      "execution_count": 40,
      "outputs": [
        {
          "output_type": "execute_result",
          "data": {
            "text/plain": [
              "8"
            ]
          },
          "metadata": {
            "tags": []
          },
          "execution_count": 40
        }
      ]
    },
    {
      "cell_type": "markdown",
      "metadata": {
        "id": "E0pa6DinBaAV"
      },
      "source": [
        "## Python packages"
      ]
    },
    {
      "cell_type": "markdown",
      "metadata": {
        "id": "sfM6lDN4BaAV"
      },
      "source": [
        "A Python package (or library) is a collection of custom functions and data types for use by other programs.\n",
        "\n",
        "You can import a Python package with the *import* keyword."
      ]
    },
    {
      "cell_type": "code",
      "metadata": {
        "colab": {
          "base_uri": "https://localhost:8080/"
        },
        "id": "dhCfackyBaAW",
        "outputId": "8eb149cb-9f60-40c7-dff9-3de90ec4fad4"
      },
      "source": [
        "import this"
      ],
      "execution_count": 41,
      "outputs": [
        {
          "output_type": "stream",
          "text": [
            "The Zen of Python, by Tim Peters\n",
            "\n",
            "Beautiful is better than ugly.\n",
            "Explicit is better than implicit.\n",
            "Simple is better than complex.\n",
            "Complex is better than complicated.\n",
            "Flat is better than nested.\n",
            "Sparse is better than dense.\n",
            "Readability counts.\n",
            "Special cases aren't special enough to break the rules.\n",
            "Although practicality beats purity.\n",
            "Errors should never pass silently.\n",
            "Unless explicitly silenced.\n",
            "In the face of ambiguity, refuse the temptation to guess.\n",
            "There should be one-- and preferably only one --obvious way to do it.\n",
            "Although that way may not be obvious at first unless you're Dutch.\n",
            "Now is better than never.\n",
            "Although never is often better than *right* now.\n",
            "If the implementation is hard to explain, it's a bad idea.\n",
            "If the implementation is easy to explain, it may be a good idea.\n",
            "Namespaces are one honking great idea -- let's do more of those!\n"
          ],
          "name": "stdout"
        }
      ]
    },
    {
      "cell_type": "markdown",
      "metadata": {
        "id": "WeUE9aSkBaAW"
      },
      "source": [
        "A very commonly used Python package for working with data is called *pandas*. Let's import pandas to create a custom dataframe."
      ]
    },
    {
      "cell_type": "code",
      "metadata": {
        "id": "Bol6U-JvBaAW"
      },
      "source": [
        ""
      ],
      "execution_count": null,
      "outputs": []
    },
    {
      "cell_type": "markdown",
      "metadata": {
        "id": "9wWm_mZKBaAW"
      },
      "source": [
        "Let's make a list of dictionaries to feed into pandas."
      ]
    },
    {
      "cell_type": "code",
      "metadata": {
        "id": "WiBnktBJBaAW"
      },
      "source": [
        ""
      ],
      "execution_count": null,
      "outputs": []
    },
    {
      "cell_type": "code",
      "metadata": {
        "id": "-etcoMuxBaAW"
      },
      "source": [
        ""
      ],
      "execution_count": null,
      "outputs": []
    },
    {
      "cell_type": "code",
      "metadata": {
        "id": "mvNA60BsBaAW"
      },
      "source": [
        ""
      ],
      "execution_count": null,
      "outputs": []
    },
    {
      "cell_type": "code",
      "metadata": {
        "id": "VJkHGFetBaAW"
      },
      "source": [
        ""
      ],
      "execution_count": null,
      "outputs": []
    },
    {
      "cell_type": "code",
      "metadata": {
        "id": "MiqYCkr3BaAX"
      },
      "source": [
        ""
      ],
      "execution_count": null,
      "outputs": []
    },
    {
      "cell_type": "code",
      "metadata": {
        "id": "nnyppP2XBaAX"
      },
      "source": [
        ""
      ],
      "execution_count": null,
      "outputs": []
    }
  ]
}